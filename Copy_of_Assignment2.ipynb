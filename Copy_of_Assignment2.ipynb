{
  "nbformat": 4,
  "nbformat_minor": 0,
  "metadata": {
    "colab": {
      "name": "Copy of Assignment2.ipynb",
      "version": "0.3.2",
      "provenance": [],
      "collapsed_sections": [],
      "include_colab_link": true
    },
    "kernelspec": {
      "name": "python3",
      "display_name": "Python 3"
    }
  },
  "cells": [
    {
      "cell_type": "markdown",
      "metadata": {
        "id": "view-in-github",
        "colab_type": "text"
      },
      "source": [
        "<a href=\"https://colab.research.google.com/github/osmtech07/Describe-AWSInstances/blob/master/Copy_of_Assignment2.ipynb\" target=\"_parent\"><img src=\"https://colab.research.google.com/assets/colab-badge.svg\" alt=\"Open In Colab\"/></a>"
      ]
    },
    {
      "metadata": {
        "id": "kFbv_K0pl7n_",
        "colab_type": "text"
      },
      "cell_type": "markdown",
      "source": [
        "# Backpropogation!\n",
        "\n",
        "\n",
        "If you are building your own neural network, you will definitely need to understand how to train it. Backpropagation is a commonly used technique for training neural network. There are many resources explaining the technique, but this post will explain backpropagation with concrete example in a very detailed colorful steps."
      ]
    },
    {
      "metadata": {
        "id": "xSwSIqjqpv8p",
        "colab_type": "text"
      },
      "cell_type": "markdown",
      "source": [
        "#Overview\n",
        "\n",
        "In this post, we will build a neural network with three layers:\n",
        "\n",
        "* **Input** layer with two inputs neurons\n",
        "* One **hidden** layer with two neurons\n",
        "* **Output** layer with a single neuron\n",
        "\n",
        "\n"
      ]
    },
    {
      "metadata": {
        "id": "mz-_IpTAqDs_",
        "colab_type": "text"
      },
      "cell_type": "markdown",
      "source": [
        "#Weights, weights, weights\n",
        "\n",
        "Neural network training is about finding weights that minimize prediction error. We usually start our training with a set of randomly generated weights.Then, backpropagation is used to update the weights in an attempt to correctly map arbitrary inputs to outputs.\n",
        "\n",
        "Our initial weights will be as following: w1 = 0.11, w2 = 0.21, w3 = 0.12, w4 = 0.08, w5 = 0.14 and w6 = 0.15"
      ]
    },
    {
      "metadata": {
        "id": "U33Knq37tVlT",
        "colab_type": "text"
      },
      "cell_type": "markdown",
      "source": [
        "#Dataset\n",
        "\n",
        "Our dataset has one sample with two inputs and one output.\n",
        "\n",
        "Our single sample is as following inputs=[2, 3] and output=[1].\n"
      ]
    },
    {
      "metadata": {
        "id": "1iH6Qo6RtmTh",
        "colab_type": "text"
      },
      "cell_type": "markdown",
      "source": [
        "# Forward Pass\n",
        "\n",
        "We will use given weights and inputs to predict the output. Inputs are multiplied by weights; the results are then passed forward to next layer.\n"
      ]
    },
    {
      "metadata": {
        "id": "k_RmpgS7t9Ui",
        "colab_type": "code",
        "outputId": "9254b950-3339-439b-a27a-8b4f0c8adc1b",
        "colab": {
          "base_uri": "https://localhost:8080/",
          "height": 86
        }
      },
      "cell_type": "code",
      "source": [
        "import numpy as np\n",
        "\n",
        "input = np.array([2, 3])\n",
        "\n",
        "actual = 1\n",
        "\n",
        "w1 = 0.11\n",
        "w2 = 0.21\n",
        "w3 = 0.12\n",
        "w4 = 0.08\n",
        "w5 = 0.14\n",
        "w6 = 0.15\n",
        "\n",
        "#weights1 = np.array(([0.11, 0.12], [0.21, 0.08]))\n",
        "#weights2 = np.array(([0.14, 0.15]))\n",
        "weights1 = np.array(([w1, w2], [w3, w4]))\n",
        "weights2 = np.array(([w5, w6]))\n",
        "\n",
        "layer1 = np.dot(input, weights1)\n",
        "print(\"Layer 1 output\")\n",
        "print(layer1)\n",
        "\n",
        "prediction = np.dot(layer1, weights2)\n",
        "print(\"Prediction Output\")\n",
        "print(prediction)\n",
        "\n"
      ],
      "execution_count": 0,
      "outputs": [
        {
          "output_type": "stream",
          "text": [
            "Layer 1 output\n",
            "[0.58 0.66]\n",
            "Prediction Output\n",
            "0.1802\n"
          ],
          "name": "stdout"
        }
      ]
    },
    {
      "metadata": {
        "id": "KYaNi8-5Icok",
        "colab_type": "text"
      },
      "cell_type": "markdown",
      "source": [
        "#Calculating Error\n",
        "\n",
        "Now, it’s time to find out how our network performed by calculating the difference between the actual output and predicted one. It’s clear that our network output, or **prediction**, is not even close to **actual output**. We can calculate the difference or the error as following."
      ]
    },
    {
      "metadata": {
        "id": "pxraEjvuJMit",
        "colab_type": "code",
        "outputId": "283cad9e-d8ae-42bc-8386-2c5680ead61d",
        "colab": {
          "base_uri": "https://localhost:8080/",
          "height": 52
        }
      },
      "cell_type": "code",
      "source": [
        "error = 1/2 * ((prediction - actual) **2)\n",
        "print(\"Error: \")\n",
        "print(error)"
      ],
      "execution_count": 0,
      "outputs": [
        {
          "output_type": "stream",
          "text": [
            "Error: \n",
            "0.33603602\n"
          ],
          "name": "stdout"
        }
      ]
    },
    {
      "metadata": {
        "id": "nzdPuRFpMD2H",
        "colab_type": "text"
      },
      "cell_type": "markdown",
      "source": [
        "#Reducing Error\n",
        "\n",
        "Our main goal of the training is to reduce the error or the difference between prediction and actual output. Since actual output is constant, “not changing”, the only way to reduce the error is to change prediction value. The question now is, how to change prediction value?\n",
        "\n",
        "By decomposing prediction into its basic elements we can find that weights are the variable elements affecting prediction value. In other words, in order to change prediction value, we need to change weights values.\n",
        "\n",
        "\n",
        "**The question now is how to change\\update the weights value so that the error is reduced?\n",
        "The answer is Backpropagation! **\n",
        "\n",
        "\n",
        "#Backpropagation\n",
        "\n",
        "**Backpropagation**, short for “backward propagation of errors”, is a mechanism used to update the weights using *gradient descent.* It calculates the gradient of the error function with respect to the neural network’s **weights**. The calculation proceeds backwards through the network.\n",
        "\n",
        "\n",
        "\n",
        "**Gradient descent** *is an iterative optimization algorithm for finding the minimum of a function; in our case we want to minimize th error function. To find a local minimum of a function using gradient descent, one takes steps proportional to the negative of the gradient of the function at the current point.*\n",
        "\n",
        "\n",
        "For example, to update w6, we take the current w6 and subtract the partial derivative of error function with respect to w6. Optionally, we multiply the derivative of the error function by a selected number to make sure that the new updated weight is minimizing the error function; this number is called learning rate.\n"
      ]
    },
    {
      "metadata": {
        "id": "AD3fj8ZaOxLv",
        "colab_type": "text"
      },
      "cell_type": "markdown",
      "source": [
        "#Backward Pass\n",
        "\n",
        "Using derived formulas we can find the new weights.\n",
        "\n",
        "*Learning rate: is a hyperparameter which means that we need to manually guess its value.*\n",
        "\n",
        "\n",
        "Now, using the new weights we will repeat the forward passed"
      ]
    },
    {
      "metadata": {
        "id": "wxnhPLWAtAhK",
        "colab_type": "code",
        "outputId": "b5d59b09-1547-473e-e40f-bca22646e829",
        "colab": {
          "base_uri": "https://localhost:8080/",
          "height": 69
        }
      },
      "cell_type": "code",
      "source": [
        "# Calculating new weights\n",
        "\n",
        "delta = prediction - actual\n",
        "a = 0.05 # learning rate \n",
        "\n",
        "\n",
        "d_weights1 = weights1 - a*delta*input*weights2.T\n",
        "d_weights2 = weights2 - a*delta*layer1\n",
        "\n",
        "print(d_weights1)\n",
        "print(d_weights2)\n",
        "\n",
        "\n"
      ],
      "execution_count": 0,
      "outputs": [
        {
          "output_type": "stream",
          "text": [
            "[[0.1214772 0.2284455]\n",
            " [0.1314772 0.0984455]]\n",
            "[0.1637742 0.1770534]\n"
          ],
          "name": "stdout"
        }
      ]
    },
    {
      "metadata": {
        "id": "3xiy2WPJPXrk",
        "colab_type": "code",
        "outputId": "8f87736f-998b-49ad-9391-54e916b2b77a",
        "colab": {
          "base_uri": "https://localhost:8080/",
          "height": 86
        }
      },
      "cell_type": "code",
      "source": [
        "d_layer1 = np.dot(input, d_weights1)\n",
        "print(\"Updated Layer 1 output\")\n",
        "print(d_layer1)\n",
        "\n",
        "d_prediction = np.dot(d_layer1, d_weights2)\n",
        "print(\"Updated Prediction Output\")\n",
        "print(d_prediction)\n"
      ],
      "execution_count": 0,
      "outputs": [
        {
          "output_type": "stream",
          "text": [
            "Updated Layer 1 output\n",
            "[0.637386  0.7522275]\n",
            "Updated Prediction Output\n",
            "0.2375718186897\n"
          ],
          "name": "stdout"
        }
      ]
    }
  ]
}